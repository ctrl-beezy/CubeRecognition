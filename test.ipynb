{
 "cells": [
  {
   "cell_type": "code",
   "execution_count": 2,
   "metadata": {},
   "outputs": [],
   "source": [
    "import cv2 as cv\n",
    "import numpy as np\n",
    "from kociemba import solve"
   ]
  },
  {
   "cell_type": "code",
   "execution_count": 3,
   "metadata": {},
   "outputs": [],
   "source": [
    "capFront = cv.VideoCapture(0)\n",
    "capBack = cv.VideoCapture(4)\n"
   ]
  },
  {
   "cell_type": "code",
   "execution_count": 4,
   "metadata": {},
   "outputs": [],
   "source": [
    "sides_list = np.chararray([3,3,3])"
   ]
  },
  {
   "cell_type": "code",
   "execution_count": 5,
   "metadata": {},
   "outputs": [
    {
     "ename": "AttributeError",
     "evalue": "'NoneType' object has no attribute 'shape'",
     "output_type": "error",
     "traceback": [
      "\u001b[0;31m---------------------------------------------------------------------------\u001b[0m",
      "\u001b[0;31mAttributeError\u001b[0m                            Traceback (most recent call last)",
      "Cell \u001b[0;32mIn [5], line 4\u001b[0m\n\u001b[1;32m      2\u001b[0m retval, frameFront \u001b[39m=\u001b[39m capFront\u001b[39m.\u001b[39mread()\n\u001b[1;32m      3\u001b[0m retval, frameBack \u001b[39m=\u001b[39m capBack\u001b[39m.\u001b[39mread()\n\u001b[0;32m----> 4\u001b[0m height, width, index \u001b[39m=\u001b[39m frameFront\u001b[39m.\u001b[39mshape\n\u001b[1;32m      5\u001b[0m \u001b[39m#hsv_frame = cv.cvtColor(frame)\u001b[39;00m\n\u001b[1;32m      6\u001b[0m cv\u001b[39m.\u001b[39mimshow(\u001b[39m'\u001b[39m\u001b[39mFrontDown\u001b[39m\u001b[39m'\u001b[39m, frameFront)\n",
      "\u001b[0;31mAttributeError\u001b[0m: 'NoneType' object has no attribute 'shape'"
     ]
    }
   ],
   "source": [
    "while True:\n",
    "    retval, frameFront = capFront.read()\n",
    "    retval, frameBack = capBack.read()\n",
    "    height, width, index = frameFront.shape\n",
    "    #hsv_frame = cv.cvtColor(frame)\n",
    "    cv.imshow('FrontDown', frameFront)\n",
    "    cv.imshow('BackUp', frameBack)\n",
    "    key = cv.waitKey(5)\n",
    "    if key == 27:\n",
    "        capFront.release()\n",
    "        capBack.release()\n",
    "        cv.destroyAllWindows()\n",
    "        break\n"
   ]
  },
  {
   "cell_type": "code",
   "execution_count": null,
   "metadata": {},
   "outputs": [
    {
     "data": {
      "text/plain": [
       "\"R B L F R2 F' B' D R F' B' L2 D' R2 U' D2 R2 B2 D L2 B2\""
      ]
     },
     "execution_count": 11,
     "metadata": {},
     "output_type": "execute_result"
    }
   ],
   "source": [
    "solve('LRFRUDUUFUBUBRUBFFLFRRFRDURBBDFDDBLDFUBDLFULLLDDLBLRBR')"
   ]
  },
  {
   "cell_type": "code",
   "execution_count": null,
   "metadata": {},
   "outputs": [
    {
     "data": {
      "text/plain": [
       "\"R L' D' F' U2 B2 D2 R' D F' R D R2 L2 U2 R2 D' B2 D B2 U2\""
      ]
     },
     "execution_count": 12,
     "metadata": {},
     "output_type": "execute_result"
    }
   ],
   "source": [
    "solve('BLFBUFFURULLBRDFFBLRBLFDFFRRUUFDRDLLLRUBLDBDDDBDRBUUUR')"
   ]
  },
  {
   "cell_type": "code",
   "execution_count": null,
   "metadata": {},
   "outputs": [],
   "source": []
  }
 ],
 "metadata": {
  "kernelspec": {
   "display_name": "Python 3.10.6 64-bit",
   "language": "python",
   "name": "python3"
  },
  "language_info": {
   "codemirror_mode": {
    "name": "ipython",
    "version": 3
   },
   "file_extension": ".py",
   "mimetype": "text/x-python",
   "name": "python",
   "nbconvert_exporter": "python",
   "pygments_lexer": "ipython3",
   "version": "3.10.6"
  },
  "orig_nbformat": 4,
  "vscode": {
   "interpreter": {
    "hash": "31f2aee4e71d21fbe5cf8b01ff0e069b9275f58929596ceb00d14d90e3e16cd6"
   }
  }
 },
 "nbformat": 4,
 "nbformat_minor": 2
}
