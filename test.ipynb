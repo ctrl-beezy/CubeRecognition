{
 "cells": [
  {
   "cell_type": "code",
   "execution_count": 10,
   "metadata": {},
   "outputs": [],
   "source": [
    "import kociemba\n",
    "scramble = 'BLBRULDBDLFUFRRDFLRDFBFDRURFRFBDULLBUFBBLRFUURDLDBLDUU'"
   ]
  },
  {
   "cell_type": "code",
   "execution_count": 11,
   "metadata": {},
   "outputs": [
    {
     "data": {
      "text/plain": [
       "\"U F' D' B2 R' F' L2 U' L F B' D2 F2 L2 F2 B2 U2 L2 D' L2 D\""
      ]
     },
     "execution_count": 11,
     "metadata": {},
     "output_type": "execute_result"
    }
   ],
   "source": [
    "kociemba.solve(scramble)"
   ]
  },
  {
   "cell_type": "code",
   "execution_count": null,
   "metadata": {},
   "outputs": [],
   "source": [
    "'BLBRULDBDLFUFRRDFLRDFBFDRURFRFBDULLBUFBBLRFUURDLDBLDUU'"
   ]
  }
 ],
 "metadata": {
  "kernelspec": {
   "display_name": "Python 3.10.4 64-bit",
   "language": "python",
   "name": "python3"
  },
  "language_info": {
   "codemirror_mode": {
    "name": "ipython",
    "version": 3
   },
   "file_extension": ".py",
   "mimetype": "text/x-python",
   "name": "python",
   "nbconvert_exporter": "python",
   "pygments_lexer": "ipython3",
   "version": "3.10.4"
  },
  "orig_nbformat": 4,
  "vscode": {
   "interpreter": {
    "hash": "4d5719d709cc9e1e9f26b7a80937d5d985ad60fdf716b4ae691f4055a5f9414f"
   }
  }
 },
 "nbformat": 4,
 "nbformat_minor": 2
}
